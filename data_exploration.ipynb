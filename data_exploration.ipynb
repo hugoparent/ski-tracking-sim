{
 "cells": [
  {
   "cell_type": "code",
   "execution_count": 13,
   "outputs": [],
   "source": [
    "import geopy.distance\n",
    "import matplotlib.pyplot as plt\n",
    "import numpy as np\n",
    "import pandas as pd\n",
    "from IPython.display import clear_output\n",
    "from scipy.signal import savgol_filter"
   ],
   "metadata": {
    "collapsed": false,
    "pycharm": {
     "name": "#%%\n"
    }
   }
  },
  {
   "cell_type": "code",
   "execution_count": 14,
   "outputs": [],
   "source": [
    "#CONSTANTS\n",
    "\n",
    "##Filtering\n",
    "FIRST_LOWPASS_SENSORS = 1  #seconds\n",
    "FIRST_LOWPASS_SENSORS_FREQ = str(FIRST_LOWPASS_SENSORS) + 's'  # for groupby freq\n",
    "LONG_WINDOW = 60  #seconds\n",
    "SHORT_WINDOW = 15  #seconds\n",
    "SLIDING_WINDOW = max(LONG_WINDOW, SHORT_WINDOW)  #seconds\n",
    "\n",
    "##Thresholds\n",
    "STABLE_THRESHOLD = 0.05  # m/s\n",
    "ASCENT_THRESHOLD = 0.8  # m/s (conversion factor 1m/s:3.6 km/h)\n",
    "DESCENT_THRESHOLD = -1.0  # m/s (conversion factor 1m/s:3.6 km/h)\n",
    "\n",
    "##Misc.\n",
    "IDLE, SKIING, LIFT = range(3)  # states"
   ],
   "metadata": {
    "collapsed": false,
    "pycharm": {
     "name": "#%%\n"
    }
   }
  },
  {
   "cell_type": "code",
   "execution_count": 15,
   "outputs": [],
   "source": [
    "#INPUT FILES\n",
    "DIRECTORY = 'am1_verbier'  #directory containing the files for a specific activity\n",
    "\n",
    "raw_barometer = pd.read_csv('input_data/' + DIRECTORY + '/Barometer.csv')\n",
    "raw_GPS = pd.read_csv('input_data/' + DIRECTORY + '/Location.csv')"
   ],
   "metadata": {
    "collapsed": false,
    "pycharm": {
     "name": "#%%\n"
    }
   }
  },
  {
   "cell_type": "code",
   "execution_count": 16,
   "outputs": [],
   "source": [
    "# PREPROCESSING\n",
    "# convert to datetime (from unix timestamp in nanoseconds)\n",
    "raw_barometer['time'] = pd.to_datetime(raw_barometer['time'])\n",
    "raw_GPS['time'] = pd.to_datetime(raw_GPS['time'])"
   ],
   "metadata": {
    "collapsed": false,
    "pycharm": {
     "name": "#%%\n"
    }
   }
  },
  {
   "cell_type": "code",
   "execution_count": 17,
   "outputs": [],
   "source": [
    "# preprocessing of raw sensor readings\n",
    "## group by 1 second (LOW-PASS FILTER)\n",
    "pre_barometer = raw_barometer.groupby(pd.Grouper(key='time', freq=FIRST_LOWPASS_SENSORS_FREQ)).mean()\n",
    "pre_GPS = raw_GPS.groupby(pd.Grouper(key='time', freq=FIRST_LOWPASS_SENSORS_FREQ)).mean()\n",
    "\n",
    "## interpolate missing data if missing to have continuous time series on column time\n",
    "pre_barometer = pre_barometer.interpolate(method='time')\n",
    "pre_GPS = pre_GPS.interpolate(method='time')\n",
    "\n",
    "## add index\n",
    "pre_barometer.reset_index(inplace=True)\n",
    "pre_GPS.reset_index(inplace=True)"
   ],
   "metadata": {
    "collapsed": false,
    "pycharm": {
     "name": "#%%\n"
    }
   }
  },
  {
   "cell_type": "code",
   "execution_count": 18,
   "outputs": [],
   "source": [
    "# merge barometer and GPS on index\n",
    "preprocessed_data = pd.merge(pre_barometer, pre_GPS, left_index=True, right_index=True, how='inner')"
   ],
   "metadata": {
    "collapsed": false,
    "pycharm": {
     "name": "#%%\n"
    }
   }
  },
  {
   "cell_type": "code",
   "execution_count": 19,
   "outputs": [],
   "source": [
    "# STATE MACHINE\n",
    "# state machine driver\n",
    "def update_state(prev, short, long):\n",
    "    ## from state LIFT\n",
    "    if prev == LIFT and -STABLE_THRESHOLD < long < STABLE_THRESHOLD and -STABLE_THRESHOLD < short < STABLE_THRESHOLD:\n",
    "        return ['A',IDLE]\n",
    "\n",
    "    elif prev == LIFT and short < DESCENT_THRESHOLD:\n",
    "        return ['B',SKIING]\n",
    "\n",
    "    elif prev == LIFT and short > ASCENT_THRESHOLD:\n",
    "        return ['C',LIFT]\n",
    "\n",
    "    ## from state SKIING\n",
    "    elif prev == SKIING and -STABLE_THRESHOLD < long < STABLE_THRESHOLD and -STABLE_THRESHOLD < short < STABLE_THRESHOLD:\n",
    "        return ['D',IDLE]\n",
    "\n",
    "    elif prev == SKIING and short > ASCENT_THRESHOLD:\n",
    "        return ['E',LIFT]\n",
    "\n",
    "    elif prev == SKIING and short < DESCENT_THRESHOLD:\n",
    "        return ['F',SKIING]\n",
    "\n",
    "    ## from state IDLE\n",
    "    elif prev == IDLE and -STABLE_THRESHOLD < long < STABLE_THRESHOLD and -STABLE_THRESHOLD < short < STABLE_THRESHOLD:\n",
    "        return ['G',IDLE]\n",
    "\n",
    "    elif prev == IDLE and short > ASCENT_THRESHOLD:\n",
    "        return ['H',LIFT]\n",
    "\n",
    "    elif prev == IDLE and short < DESCENT_THRESHOLD:\n",
    "        return ['I',SKIING]\n",
    "\n",
    "    ## no change\n",
    "    else:\n",
    "        return [None,prev]"
   ],
   "metadata": {
    "collapsed": false,
    "pycharm": {
     "name": "#%%\n"
    }
   }
  },
  {
   "cell_type": "code",
   "execution_count": 20,
   "outputs": [],
   "source": [
    "# DATA STRUCTURE FOR INPUT DATA\n",
    "# data structure to hold sensor data (as if it was fed from raw sensor after low-pass filtering)\n",
    "data = preprocessed_data[\n",
    "    ['relativeAltitude', 'speed', 'latitude', 'longitude']]\n",
    "\n",
    "# data structure to hold working data\n",
    "live_data = pd.DataFrame(columns=[\n",
    "    'relativeAltitude', 'latitude', 'longitude', 'speed', 'smoothedAltitude',\n",
    "    'run_start', 'run_time', 'activity_time',  # time\n",
    "    'state', 'n_runs',  # state\n",
    "    'top_speed_run', 'top_speed_total', 'avg_speed_run',  #speed\n",
    "    'max_altitude_run', 'max_altitude_total',  # altitude\n",
    "    'ascent_run', 'ascent_total',  # ascent\n",
    "    'descent_run', 'descent_total',  # descent\n",
    "    'distance_run', 'distance_total'])  #distance])"
   ],
   "metadata": {
    "collapsed": false,
    "pycharm": {
     "name": "#%%\n"
    }
   }
  },
  {
   "cell_type": "code",
   "execution_count": 21,
   "outputs": [],
   "source": [
    "# DATA STRUCTURE FOR METRICS\n",
    "stats_time = {\n",
    "    # TIME\n",
    "    'start_time_total': 0,\n",
    "    'start_time_run': 0,\n",
    "    'current_time': 0,\n",
    "    'total_time': 0,\n",
    "    'run_time': 0\n",
    "}\n",
    "stats_state = {\n",
    "    # STATE\n",
    "    'number_of_runs': 0,\n",
    "    'current_state': IDLE\n",
    "}\n",
    "stats_speed = {\n",
    "    # SPEED\n",
    "    'top_speed_total': 0,\n",
    "    'avg_speed_total': 0,\n",
    "    'top_speed_run': 0,\n",
    "    'avg_speed_run': 0,\n",
    "    'current_speed': 0\n",
    "}\n",
    "stats_altitude = {\n",
    "    # ALTITUDE\n",
    "    'max_altitude_total': 0,\n",
    "    'min_altitude_total': 0,\n",
    "    'avg_altitude_total': 0,\n",
    "    'max_altitude_run': 0,\n",
    "    'min_altitude_run': 0,\n",
    "    'avg_altitude_run': 0,\n",
    "    'current_altitude': 0\n",
    "}\n",
    "\n",
    "stats_vertical = {\n",
    "    # VERTICAL\n",
    "    'ascent_total': 0,\n",
    "    'descent_total': 0,\n",
    "    'ascent_run': 0,\n",
    "    'descent_run': 0\n",
    "}\n",
    "stats_distance = {\n",
    "    # DISTANCE\n",
    "    'distance_total': 0,\n",
    "    'distance_run': 0,\n",
    "}"
   ],
   "metadata": {
    "collapsed": false,
    "pycharm": {
     "name": "#%%\n"
    }
   }
  },
  {
   "cell_type": "code",
   "execution_count": 22,
   "outputs": [],
   "source": [
    "# METRIC UPDATE FUNCTIONS\n",
    "\n",
    "def update_time_run(curr_time):\n",
    "    stats_time['current_time'] = curr_time - stats_time['start_time_run']\n",
    "    return\n",
    "\n",
    "\n",
    "def update_speed_run(curr_speed):\n",
    "    n_samples = stats_time['current_time']\n",
    "    stats_speed['current_speed'] = curr_speed\n",
    "    stats_speed['top_speed_run'] = max(curr_speed, stats_speed['top_speed_run'])\n",
    "    stats_speed['avg_speed_run'] = (stats_speed['avg_speed_run'] * n_samples) / (n_samples + 1) + curr_speed / (\n",
    "            n_samples + 1)\n",
    "    return\n",
    "\n",
    "\n",
    "def update_altitude_run(curr_altitude):\n",
    "    stats_altitude['max_altitude_run'] = max(curr_altitude, stats_altitude['max_altitude_run'])\n",
    "    return\n",
    "\n",
    "\n",
    "def update_vertical_run(curr_delta):\n",
    "    if curr_delta > 0:\n",
    "        stats_vertical['ascent_run'] += curr_delta\n",
    "    else:\n",
    "        stats_vertical['descent_run'] += curr_delta\n",
    "    return\n",
    "\n",
    "\n",
    "def update_distance_run(prev_lat, prev_lon, curr_lat, curr_lon):\n",
    "    stats_distance['distance_run'] += geopy.distance.geodesic((prev_lat, prev_lon), (curr_lat, curr_lon)).m\n",
    "    return\n",
    "\n",
    "\n",
    "def update_df(index):\n",
    "    # TIME\n",
    "    live_data.at[index, 'activity_time'] = stats_time['total_time']\n",
    "    live_data.at[index, 'run_time'] = stats_time['current_time']\n",
    "    live_data.at[index, 'run_start'] = stats_time['start_time_run']\n",
    "    # STATE\n",
    "    live_data.at[index, 'n_runs'] = stats_state['number_of_runs']\n",
    "    # SPEED\n",
    "    live_data.at[index, 'top_speed_run'] = stats_speed['top_speed_run']\n",
    "    live_data.at[index, 'avg_speed_run'] = stats_speed['avg_speed_run']\n",
    "    live_data.at[index, 'top_speed_total'] = stats_speed['top_speed_total']\n",
    "    # ALTITUDE\n",
    "    live_data.at[index, 'max_altitude_run'] = stats_altitude['max_altitude_run']\n",
    "    live_data.at[index, 'max_altitude_total'] = stats_altitude['max_altitude_total']\n",
    "    # ASCENT\n",
    "    live_data.at[index, 'ascent_run'] = stats_vertical['ascent_run']\n",
    "    live_data.at[index, 'ascent_total'] = stats_vertical['ascent_total']\n",
    "    # DESCENT\n",
    "    live_data.at[index, 'descent_run'] = stats_vertical['descent_run']\n",
    "    live_data.at[index, 'descent_total'] = stats_vertical['descent_total']\n",
    "    # DISTANCE\n",
    "    live_data.at[index, 'distance_run'] = stats_distance['distance_run']\n",
    "    live_data.at[index, 'distance_total'] = stats_distance['distance_total']\n",
    "\n",
    "\n",
    "def start_run_stats(curr_time):\n",
    "    stats_time['start_time_run'] = curr_time\n",
    "    return\n",
    "\n",
    "\n",
    "# ran at the end of the run\n",
    "def consume_run_stats():\n",
    "    # TIME\n",
    "    stats_time['total_time'] += stats_time['current_time']\n",
    "    n_samples = stats_time['total_time']\n",
    "    stats_time['start_time_run'] = 0\n",
    "    stats_time['current_time'] = 0\n",
    "    # STATE\n",
    "    stats_state['number_of_runs'] += 1\n",
    "    # SPEED\n",
    "    stats_speed['top_speed_total'] = max(stats_speed['top_speed_run'], stats_speed['top_speed_total'])\n",
    "    stats_speed['top_speed_run'] = 0\n",
    "    stats_speed['avg_speed_run'] = 0\n",
    "    # ALTITUDE\n",
    "    stats_altitude['max_altitude_total'] = max(stats_altitude['max_altitude_run'], stats_altitude['max_altitude_total'])\n",
    "    stats_altitude['max_altitude_run'] = 0\n",
    "    # VERTICAL\n",
    "    stats_vertical['ascent_total'] += stats_vertical['ascent_run']\n",
    "    stats_vertical['ascent_run'] = 0\n",
    "    stats_vertical['descent_total'] += stats_vertical['descent_run']\n",
    "    stats_vertical['descent_run'] = 0\n",
    "    # DISTANCE\n",
    "    stats_distance['distance_total'] += stats_distance['distance_run']\n",
    "    stats_distance['distance_run'] = 0\n",
    "    return"
   ],
   "metadata": {
    "collapsed": false,
    "pycharm": {
     "name": "#%%\n"
    }
   }
  },
  {
   "cell_type": "code",
   "execution_count": 23,
   "outputs": [
    {
     "data": {
      "text/plain": "<Figure size 1080x720 with 1 Axes>",
      "image/png": "[encoded data removed]"
     },
     "metadata": {
      "needs_background": "light"
     },
     "output_type": "display_data"
    }
   ],
   "source": [
    "df_out = pd.DataFrame(live_data)  # for output visualisation\n",
    "\n",
    "original_length = len(data)\n",
    "\n",
    "# while there are rows in data, consume the oldest data point\n",
    "while data.shape[0] > 0:\n",
    "    n = original_length - data.shape[0]\n",
    "    # load last reading\n",
    "    current_row = data.iloc[0].copy()  # consume oldest available data\n",
    "    data = data.iloc[1:]  # remove consumed data\n",
    "    current_row['state'] = 0  # default state, to be modified by state machine\n",
    "\n",
    "    #append new data in live_data\n",
    "    live_data = pd.concat([live_data, current_row.to_frame().T], axis=0, ignore_index=True)\n",
    "\n",
    "    #if the sliding window is filled with data, consume the oldest data\n",
    "    len_live_data = live_data.shape[0] - 1\n",
    "    if len_live_data >= SLIDING_WINDOW:\n",
    "\n",
    "        # filtering\n",
    "        live_data['smoothedAltitude'] = savgol_filter(live_data['relativeAltitude'], 15, 2)\n",
    "\n",
    "        # features\n",
    "        first_derivative_short = np.mean(np.diff(live_data['smoothedAltitude'])[-SHORT_WINDOW:])\n",
    "        first_derivative_long = np.mean(np.diff(live_data['smoothedAltitude'])[-LONG_WINDOW:])\n",
    "\n",
    "        previous_state = live_data['state'].iloc[\n",
    "            -2]  # since we started appending a new row, -1 is current row, -2 is actual previous\n",
    "\n",
    "        next_state = update_state(previous_state, first_derivative_short, first_derivative_long)\n",
    "        live_data.at[len_live_data, 'state'] = next_state[1]\n",
    "\n",
    "        # if in state SKIING, update stats for run\n",
    "        if previous_state == SKIING:\n",
    "            update_time_run(n)\n",
    "            update_speed_run(live_data['speed'].iloc[-1])\n",
    "            update_altitude_run(live_data['relativeAltitude'].iloc[-2])\n",
    "            update_vertical_run(live_data['relativeAltitude'].iloc[-2] - live_data['relativeAltitude'].iloc[-3])\n",
    "            update_distance_run(live_data['latitude'].iloc[-2], live_data['longitude'].iloc[-2],\n",
    "                                live_data['latitude'].iloc[-3], live_data['longitude'].iloc[-3])\n",
    "\n",
    "        # if enter LIFT state from SKIING or IDLE\n",
    "        if next_state[0] == 'E' or next_state[0] == 'H':\n",
    "            consume_run_stats()\n",
    "\n",
    "        # if enter SKIING state from LIFT or IDLE\n",
    "        if next_state[0] == 'B' or next_state[0] == 'I':\n",
    "            start_run_stats(n)\n",
    "\n",
    "        # update the datastructure\n",
    "        update_df(len_live_data)\n",
    "\n",
    "    # for visualisation, stop every 10 minutes\n",
    "    if (n % 600) == 0:\n",
    "\n",
    "        clear_output(wait=True)\n",
    "        min1 = min(live_data['smoothedAltitude'])\n",
    "        max1 = max(live_data['smoothedAltitude'])\n",
    "        plt.plot(live_data['smoothedAltitude'].map(lambda x: x - min1))\n",
    "\n",
    "        #create three lists for each state\n",
    "        list_IDLE = []\n",
    "        list_SKI = []\n",
    "        list_LIFT = []\n",
    "        #for each row of live data, set list_IDLE to 1 if state = 0, 0 otherwise\n",
    "        scale = max1 - min1\n",
    "        for i in range(len(live_data)):\n",
    "            if live_data['state'].iloc[i] == 0:\n",
    "                list_IDLE.append(scale)\n",
    "            else:\n",
    "                list_IDLE.append(0)\n",
    "            if live_data['state'].iloc[i] == 1:\n",
    "                list_SKI.append(scale)\n",
    "            else:\n",
    "                list_SKI.append(0)\n",
    "            if live_data['state'].iloc[i] == 2:\n",
    "                list_LIFT.append(scale)\n",
    "            else:\n",
    "                list_LIFT.append(0)\n",
    "        plt.plot(list_IDLE)\n",
    "        plt.plot(list_SKI)\n",
    "        plt.plot(list_LIFT)\n",
    "\n",
    "        plt.legend(['smoothedAltitude', 'IDLE', 'SKI', 'LIFT'])\n",
    "        #enlarge figure\n",
    "        plt.gcf().set_size_inches(15, 10)\n",
    "        plt.show()"
   ],
   "metadata": {
    "collapsed": false,
    "pycharm": {
     "name": "#%%\n"
    }
   }
  },
  {
   "cell_type": "code",
   "execution_count": 28,
   "outputs": [],
   "source": [
    "## OUTPUT DATA TO DASHBOARD\n",
    "# get first hour of live_data\n",
    "output = live_data.iloc[0:3600]\n",
    "output.to_csv('output_data/output.csv')"
   ],
   "metadata": {
    "collapsed": false,
    "pycharm": {
     "name": "#%%\n"
    }
   }
  }
 ],
 "metadata": {
  "kernelspec": {
   "display_name": "Python 3",
   "language": "python",
   "name": "python3"
  },
  "language_info": {
   "codemirror_mode": {
    "name": "ipython",
    "version": 2
   },
   "file_extension": ".py",
   "mimetype": "text/x-python",
   "name": "python",
   "nbconvert_exporter": "python",
   "pygments_lexer": "ipython2",
   "version": "2.7.6"
  }
 },
 "nbformat": 4,
 "nbformat_minor": 0
}